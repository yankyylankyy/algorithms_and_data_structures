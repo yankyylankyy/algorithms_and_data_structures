{
 "cells": [
  {
   "cell_type": "markdown",
   "metadata": {},
   "source": [
    "# Practice Interview\n",
    "\n",
    "## Objective\n",
    "\n",
    "_*The partner assignment aims to provide participants with the opportunity to practice coding in an interview context. You will analyze your partner's Assignment 1. Moreover, code reviews are common practice in a software development team. This assignment should give you a taste of the code review process.*_\n",
    "\n",
    "## Group Size\n",
    "\n",
    "Each group should have 2 people. You will be assigned a partner\n",
    "\n",
    "## Parts:\n",
    "- Part 1: Complete 1 of 3 questions\n",
    "- Part 2: Review your partner's Assignment 1 submission\n",
    "- Part 3: Perform code review of your partner's assignment 1 by answering the questions below\n",
    "- Part 3: Reflect on Assignment 1 and Assignment 2\n",
    "\n",
    "## Part 1:\n",
    "\n",
    "_*You will be assigned one of three problems based of your first name. Enter your first name, in all lower case, execute the code below, and that will tell you your assigned problem. Include the output as part of your submission (do not clear the output). The problems are based-off problems from Leetcode.*_"
   ]
  },
  {
   "cell_type": "code",
   "execution_count": 1,
   "metadata": {},
   "outputs": [
    {
     "name": "stdout",
     "output_type": "stream",
     "text": [
      "1\n"
     ]
    }
   ],
   "source": [
    "import hashlib\n",
    "\n",
    "def hash_to_range(input_string: str) -> int:\n",
    "     hash_object = hashlib.sha256(input_string.encode())\n",
    "     hash_int = int(hash_object.hexdigest(), 16)\n",
    "     return (hash_int % 3) + 1\n",
    "input_string = \"puneet\"\n",
    "result = hash_to_range(input_string)\n",
    "print(result)\n"
   ]
  },
  {
   "cell_type": "markdown",
   "metadata": {},
   "source": [
    "<details>\n",
    "  <summary>Question 1</summary>\n",
    "\n",
    "  # Question One: Check Duplicates in Tree\n",
    "\n",
    "  Given the `root` of a binary tree, check whether it is contains a duplicate value. If a duplicate exists, return the duplicate value. If there are multiple duplicates, return the one with the closest distance to the root. If no duplicate exists, return -1.\n",
    "\n",
    "  ## Examples\n",
    "\n",
    "  ### Example 1\n",
    "\n",
    "  ![](./images/q1_ex1.png)\n",
    "\n",
    "  Input: `root = [1, 2, 2, 3, 5, 6, 7]` *What traversal method is this?*\n",
    "\n",
    "  Output: 2\n",
    "\n",
    "  ### Example 2\n",
    "\n",
    "  ![](./images/q1_ex2.png)\n",
    "\n",
    "  Input: `root = [1, 10, 2, 3, 10, 12, 12]`\n",
    "\n",
    "  Output: 10\n",
    "\n",
    "  ### Example 3\n",
    "\n",
    "  ![](./images/q1_ex3.png)\n",
    "\n",
    "  Input: `root = [10, 9, 8, 7]`\n",
    "\n",
    "  Output: -1\n",
    "\n",
    "</details>\n",
    "\n",
    "#### Starter Code for Question 1"
   ]
  },
  {
   "cell_type": "code",
   "execution_count": 7,
   "metadata": {},
   "outputs": [],
   "source": [
    "from collections import deque\n",
    "from typing import List\n",
    "\n",
    "# Definition for a binary tree node.\n",
    "class TreeNode(object):\n",
    "    def __init__(self, val = 0, left = None, right = None):\n",
    "        self.val = val\n",
    "        self.left = left\n",
    "        self.right = right\n",
    "\n",
    "def is_duplicate(root: TreeNode) -> int:\n",
    "  if not root:\n",
    "      return -1\n",
    "    \n",
    "  seen = set()\n",
    "  queue = deque([root])\n",
    "  \n",
    "  # BFS traversal - processes nodes level by level\n",
    "  while queue:\n",
    "      node = queue.popleft()\n",
    "      \n",
    "      if node.val in seen:\n",
    "          return node.val  # Found duplicate, return immediately\n",
    "        \n",
    "      seen.add(node.val)\n",
    "        \n",
    "      # Add children to queue for next level\n",
    "      if node.left:\n",
    "          queue.append(node.left)\n",
    "      if node.right:\n",
    "          queue.append(node.right)\n",
    "    \n",
    "  return -1\n",
    "\n",
    "# Helper function to get the binary tree\n",
    "def build_tree_from_list(arr: List[int]) -> TreeNode:\n",
    "    if not arr:\n",
    "        return None # type: ignore\n",
    "    \n",
    "    root = TreeNode(arr[0])\n",
    "    queue = deque([root])\n",
    "    i = 1\n",
    "    \n",
    "    while queue and i < len(arr):\n",
    "        node = queue.popleft()\n",
    "        \n",
    "        # Add left child\n",
    "        if i < len(arr) and arr[i] is not None:\n",
    "            node.left = TreeNode(arr[i])\n",
    "            queue.append(node.left)\n",
    "        i += 1\n",
    "        \n",
    "        # Add right child\n",
    "        if i < len(arr) and arr[i] is not None:\n",
    "            node.right = TreeNode(arr[i])\n",
    "            queue.append(node.right)\n",
    "        i += 1\n",
    "    \n",
    "    return root"
   ]
  },
  {
   "cell_type": "code",
   "execution_count": 10,
   "metadata": {},
   "outputs": [
    {
     "name": "stdout",
     "output_type": "stream",
     "text": [
      "Input 1: [1, 2, 2, 3, 5, 6, 7] and Output 1: 2\n",
      "Input 2: [1, 2, 2, 3, 5, 6, 7] and Output 2: 10\n",
      "Input 3: [1, 2, 2, 3, 5, 6, 7] and Output 3: -1\n"
     ]
    }
   ],
   "source": [
    "def test_duplicate():\n",
    "    example_1 = [1, 2, 2, 3, 5, 6, 7]                   # Example 1: [1, 2, 2, 3, 5, 6, 7]\n",
    "    treeNode_1 = build_tree_from_list(example_1)\n",
    "    output_1 = is_duplicate(treeNode_1)\n",
    "    print(f\"Input 1: {example_1} and Output 1: {output_1}\")\n",
    "\n",
    "    example_2 = [1, 10, 2, 3, 10, 12, 12]               # Example 2: [1, 10, 2, 3, 10, 12, 12]\n",
    "    treeNode_2 = build_tree_from_list(example_2)\n",
    "    output_2 = is_duplicate(treeNode_2)\n",
    "    print(f\"Input 2: {example_1} and Output 2: {output_2}\")\n",
    "\n",
    "    example_3 = [10, 9, 8, 7]                           # Example 3: [10, 9, 8, 7]\n",
    "    treeNode_3 = build_tree_from_list(example_3)\n",
    "    output_3 = is_duplicate(treeNode_3)\n",
    "    print(f\"Input 3: {example_1} and Output 3: {output_3}\")\n",
    "\n",
    "test_duplicate()"
   ]
  },
  {
   "cell_type": "markdown",
   "metadata": {},
   "source": [
    "<details>\n",
    "  <summary>Question 2</summary>\n",
    "\n",
    "  # Question Two: Path to Leaves\n",
    "\n",
    "  Given the `root` of a binary tree, return all root to leaf paths in any order.\n",
    "\n",
    "  ## Examples\n",
    "\n",
    "  ### Example 1\n",
    "\n",
    "  ![](./images/q1_ex1.png)\n",
    "\n",
    "  Input: `root = [1, 2, 2, 3, 5, 6, 7]` *What traversal method is this?*\n",
    "\n",
    "  Output: [[1, 2, 3], [1, 2, 5], [1, 2, 6], [1, 2, 7]]\n",
    "\n",
    "  ### Example 2\n",
    "\n",
    "  ![](./images/q1_ex3.png)\n",
    "\n",
    "  Input: `root = [10, 9, 7, 8]`\n",
    "\n",
    "  Output: [[10, 7], [10, 9, 8]]\n",
    "\n",
    "</details>\n",
    "\n",
    "#### Starter Code for Question 2"
   ]
  },
  {
   "cell_type": "code",
   "execution_count": null,
   "metadata": {},
   "outputs": [],
   "source": [
    "# Definition for a binary tree node.\n",
    "# class TreeNode(object):\n",
    "#     def __init__(self, val = 0, left = None, right = None):\n",
    "#         self.val = val\n",
    "#         self.left = left\n",
    "#         self.right = right\n",
    "def bt_path(root: TreeNode) -> List[List[int]]:\n",
    "  # TODO"
   ]
  },
  {
   "cell_type": "markdown",
   "metadata": {},
   "source": [
    "<details>\n",
    "  <summary>Question 3</summary>\n",
    "\n",
    "  # Question Three: Missing Number in Range\n",
    " \n",
    "  You are given a list containing `n` integers in the range `[0, n]`. Return a list of numbers that are missing from the range `[0, n]` of the array. If there is no missing number, return -1. Note, all the integers in the list may not be unique.\n",
    "  \n",
    "  ## Examples\n",
    "\n",
    "  ### Example 1\n",
    "\n",
    "  Input: `lst = [0, 2]`\n",
    "\n",
    "  Output: [1]\n",
    "\n",
    "  ### Example 2\n",
    "\n",
    "  Input: `lst = [5, 0, 1]`\n",
    "\n",
    "  Output: [2, 3, 4]\n",
    "\n",
    "  ### Example 3\n",
    "\n",
    "  Input: `lst = [6, 8, 2, 3, 5, 7, 0, 1, 10]`\n",
    "\n",
    "  Output: [4, 9]\n",
    "\n",
    "</details>\n",
    "\n",
    "#### Starter Code for Question 3\n"
   ]
  },
  {
   "cell_type": "code",
   "execution_count": null,
   "metadata": {
    "scrolled": true
   },
   "outputs": [],
   "source": [
    "def missing_num(nums: List) -> int:\n",
    "  # TODO"
   ]
  },
  {
   "cell_type": "markdown",
   "metadata": {
    "jp-MarkdownHeadingCollapsed": true
   },
   "source": [
    "## Part 2:\n",
    "\n",
    "You and your partner must share each other's Assignment 1 submission."
   ]
  },
  {
   "cell_type": "code",
   "execution_count": 11,
   "metadata": {},
   "outputs": [],
   "source": [
    "# Reviewing my partner's assignment.\n",
    "# My partner for assignment two is Sahil Modi. \n",
    "# His assignment can be found at https://github.com/smodi23/algorithms_and_data_structures/pulls."
   ]
  },
  {
   "cell_type": "markdown",
   "metadata": {},
   "source": [
    "\n",
    "## Part 3:\n",
    "\n",
    "Create a Jupyter Notebook, create 6 of the following headings, and complete the following for your partner's assignment 1:\n",
    "\n",
    "-   Paraphrase the problem in your own words.\n"
   ]
  },
  {
   "cell_type": "code",
   "execution_count": 14,
   "metadata": {},
   "outputs": [],
   "source": [
    "# According to given problem, determine if the input string has valid bracket sequence. The output would be TRUE if every opening bracket \n",
    "# has a corresponding closing bracket and that too in the correct order by matching bracket types otherwise the output would return FALSE.\n",
    "# This problem can be solved using the stack data structure with LIFO algorithm."
   ]
  },
  {
   "cell_type": "markdown",
   "metadata": {},
   "source": [
    "\n",
    "-   Create 1 new example that demonstrates you understand the problem. Trace/walkthrough 1 example that your partner made and explain it.\n"
   ]
  },
  {
   "cell_type": "code",
   "execution_count": 12,
   "metadata": {},
   "outputs": [],
   "source": [
    "# Example -> \n",
    "# Input: s = \"(((([)]\" \n",
    "# Output: False\n",
    "# In the above Input string there are multiple opening brackets like '(' which doesn't have enough corresponding closing brackets \n",
    "# and also the order of opening and closing brackets in respect to the square bracket '[' is not correct. \n",
    "\n",
    "# Partner's Example ->\n",
    "# Input: s = \"([{)}]\"\n",
    "# Output: False\n",
    "# In this partner's example, each and every opening bracket has a corresponding closing bracket but the curve opening '(' and \n",
    "# closing ')' brackets are not in correct order, hence returning FALSE."
   ]
  },
  {
   "cell_type": "markdown",
   "metadata": {},
   "source": [
    "\n",
    "-   Copy the solution your partner wrote. \n"
   ]
  },
  {
   "cell_type": "code",
   "execution_count": 13,
   "metadata": {},
   "outputs": [],
   "source": [
    "# Your answer here\n",
    "\n",
    "def is_valid_brackets(s: str) -> bool:\n",
    "    stack = []\n",
    "    matching = {')': '(', ']': '[', '}': '{'}\n",
    "\n",
    "    for char in s:\n",
    "        if char in matching.values():\n",
    "            stack.append(char)\n",
    "        elif char in matching:\n",
    "            if not stack or stack[-1] != matching[char]:\n",
    "                return False\n",
    "            stack.pop()\n",
    "        else:\n",
    "            return False\n",
    "\n",
    "    return not stack"
   ]
  },
  {
   "cell_type": "markdown",
   "metadata": {},
   "source": [
    "\n",
    "-   Explain why their solution works in your own words.\n"
   ]
  },
  {
   "cell_type": "code",
   "execution_count": 15,
   "metadata": {},
   "outputs": [],
   "source": [
    "# As this problem can be solved using stack with LIFO. \n",
    "# So the above solution is correctly using the stack to store the brackets in the order of their generation. \n",
    "# stack is defined like stack = [] and a matching dictionary is defined to check the which closing bracket matches its \n",
    "# corresponding opening bracket. According to the logic inside the for loop, if it finds an opening bracket it pushes to the stack \n",
    "# and it keeps pushing to the stack if it keep on finding opening brackets. If it finds the closing bracket then it checks for \n",
    "# its corresponding opening bracket at the most recent place. It it doesn't find the corresponding bracket or the stack is not empty \n",
    "# or the given character is not bracket then it returns FALSE. If the stack is empty then it returns TRUE."
   ]
  },
  {
   "cell_type": "markdown",
   "metadata": {},
   "source": [
    "\n",
    "-   Explain the problem’s time and space complexity in your own words.\n"
   ]
  },
  {
   "cell_type": "code",
   "execution_count": 16,
   "metadata": {},
   "outputs": [],
   "source": [
    "# Time and the Space complexity of this solution is O(n). As it solves the problem in single pass through the string and \n",
    "# the dictionary validates for the most recent opening bracket and verifies the correct order. Stack and dictionary both \n",
    "# checks are concluding the output with signle pass."
   ]
  },
  {
   "cell_type": "markdown",
   "metadata": {},
   "source": [
    "\n",
    "-   Critique your partner's solution, including explanation, and if there is anything that should be adjusted.\n"
   ]
  },
  {
   "cell_type": "code",
   "execution_count": 17,
   "metadata": {},
   "outputs": [],
   "source": [
    "# The partner's solution is the best with O(n) as its Time and Space complexity. Any other solution could have resulted in O(n)2 \n",
    "# time or space complexity."
   ]
  },
  {
   "cell_type": "markdown",
   "metadata": {},
   "source": [
    "\n",
    "## Part 4:\n",
    "\n",
    "Please write a 200 word reflection documenting your process from assignment 1, and your presentation and review experience with your partner at the bottom of the Jupyter Notebook under a new heading \"Reflection.\" Again, export this Notebook as pdf.\n"
   ]
  },
  {
   "cell_type": "markdown",
   "metadata": {},
   "source": [
    "### Reflection"
   ]
  },
  {
   "cell_type": "code",
   "execution_count": 18,
   "metadata": {},
   "outputs": [],
   "source": [
    "# These assignments help in providing the better understanding of the data structures and our approach towards the problem set. \n",
    "# Also, helped in getting the understanding about the alternate approach towards a common problem set and getting the understanding \n",
    "# of optimizing the solution using a different data structure or utilize the data strutures intelligently."
   ]
  },
  {
   "cell_type": "markdown",
   "metadata": {},
   "source": [
    "\n",
    "## Evaluation Criteria\n",
    "\n",
    "We are looking for the similar points as Assignment 1\n",
    "\n",
    "-   Problem is accurately stated\n",
    "\n",
    "-   New example is correct and easily understandable\n",
    "\n",
    "-   Correctness, time, and space complexity of the coding solution\n",
    "\n",
    "-   Clarity in explaining why the solution works, its time and space complexity\n",
    "\n",
    "-   Quality of critique of your partner's assignment, if necessary\n"
   ]
  },
  {
   "cell_type": "markdown",
   "metadata": {},
   "source": [
    "## Submission Information\n",
    "\n",
    "🚨 **Please review our [Assignment Submission Guide](https://github.com/UofT-DSI/onboarding/blob/main/onboarding_documents/submissions.md)** 🚨 for detailed instructions on how to format, branch, and submit your work. Following these guidelines is crucial for your submissions to be evaluated correctly.\n",
    "\n",
    "### Submission Parameters:\n",
    "* Submission Due Date: `HH:MM AM/PM - DD/MM/YYYY`\n",
    "* The branch name for your repo should be: `assignment-2`\n",
    "* What to submit for this assignment:\n",
    "    * This Jupyter Notebook (assignment_2.ipynb) should be populated and should be the only change in your pull request.\n",
    "* What the pull request link should look like for this assignment: `https://github.com/<your_github_username>/algorithms_and_data_structures/pull/<pr_id>`\n",
    "    * Open a private window in your browser. Copy and paste the link to your pull request into the address bar. Make sure you can see your pull request properly. This helps the technical facilitator and learning support staff review your submission easily.\n",
    "\n",
    "Checklist:\n",
    "- [ ] Created a branch with the correct naming convention.\n",
    "- [ ] Ensured that the repository is public.\n",
    "- [ ] Reviewed the PR description guidelines and adhered to them.\n",
    "- [ ] Verify that the link is accessible in a private browser window.\n",
    "\n",
    "If you encounter any difficulties or have questions, please don't hesitate to reach out to our team via our Slack at `#cohort-6-help`. Our Technical Facilitators and Learning Support staff are here to help you navigate any challenges.\n"
   ]
  },
  {
   "cell_type": "code",
   "execution_count": null,
   "metadata": {},
   "outputs": [],
   "source": []
  }
 ],
 "metadata": {
  "kernelspec": {
   "display_name": "dsi_participant",
   "language": "python",
   "name": "python3"
  },
  "language_info": {
   "codemirror_mode": {
    "name": "ipython",
    "version": 3
   },
   "file_extension": ".py",
   "mimetype": "text/x-python",
   "name": "python",
   "nbconvert_exporter": "python",
   "pygments_lexer": "ipython3",
   "version": "3.9.21"
  }
 },
 "nbformat": 4,
 "nbformat_minor": 4
}
